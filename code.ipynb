{
 "cells": [
  {
   "cell_type": "markdown",
   "id": "67733cd1",
   "metadata": {},
   "source": [
    "## Task 3: Calculating Bias and Variance"
   ]
  },
  {
   "cell_type": "code",
   "execution_count": 1,
   "id": "034e315d",
   "metadata": {},
   "outputs": [],
   "source": [
    "#Import all modules\n",
    "from math import sqrt\n",
    "import numpy as np\n",
    "import pandas as pd\n",
    "from sklearn.linear_model import LinearRegression\n",
    "from sklearn.preprocessing import PolynomialFeatures\n",
    "from sklearn.model_selection import train_test_split\n",
    "import pickle\n",
    "import random\n",
    "import matplotlib.pyplot as plt\n"
   ]
  },
  {
   "cell_type": "markdown",
   "id": "8d0f2b96",
   "metadata": {},
   "source": [
    "### 3.1 How to Re-Sample data"
   ]
  },
  {
   "cell_type": "code",
   "execution_count": 2,
   "id": "e25a1f16",
   "metadata": {},
   "outputs": [],
   "source": [
    "### (2.3.1)\n",
    "\n",
    "# loading the training set\n",
    "fileobj_train = open(\"train_dataset.pickle\",'rb')\n",
    "train_data = pickle.load(fileobj_train)\n",
    "train = pd.DataFrame(train_data, columns = ['X','Y'])#.sample(frac=1) ##Pandas DataFrame named \"train\" with two \n",
    "## columns named \"X\" and \"Y\". The data is then shuffled using the sample() method with frac=1, which shuffles the data in place.\n",
    "\n",
    "# loading the test set\n",
    "fileobj_test = open(\"test_dataset.pickle\",'rb')\n",
    "test_data = pickle.load(fileobj_test)\n",
    "test = pd.DataFrame(test_data, columns=['X', 'Y'])\n",
    "\n",
    "# divide train dataset into 20 smaller subsets\n",
    "total_dataset = 20\n",
    "\n",
    "train_split = np.split(train, total_dataset)\n"
   ]
  },
  {
   "cell_type": "markdown",
   "id": "5b6a7423",
   "metadata": {},
   "source": [
    "### 3.2 Task"
   ]
  },
  {
   "cell_type": "code",
   "execution_count": 3,
   "id": "12885e0f",
   "metadata": {
    "scrolled": false
   },
   "outputs": [],
   "source": [
    "# training the models corresponding to each degree of polynimial fit & \n",
    "# each training data subset that we just created randomly\n",
    "\n",
    "degrees = 15\n",
    "models = []\n",
    "\n",
    "# for every degree of polynomial fit (degree = 15)\n",
    "for i in range(1, degrees + 1, 1):\n",
    "  current_degree_model = []\n",
    "  poly = PolynomialFeatures(degree = i) ##It creates a new feature matrix consisting of all polynomial \n",
    "                                        ##combinations of the original features up to a specified degree\n",
    "  \n",
    "  # for every training data subset\n",
    "  for j in range(0, total_dataset, 1):\n",
    "    value = train_split[j]\n",
    "    value_x = value['X']\n",
    "    value_y = value['Y']\n",
    "    value_x = np.array(value_x).reshape(-1,1)\n",
    "    transformed_value_x = poly.fit_transform(value_x)\n",
    "    value_y = np.array(value_y).reshape(-1,1)\n",
    "    \n",
    "    current_degree_model.append(LinearRegression().fit(transformed_value_x, value_y))\n",
    "  models.append(current_degree_model)\n",
    "# print(models)\n",
    "# Here: models[i][j] means a model trained with polynomial fit of i and using training data subset j"
   ]
  },
  {
   "cell_type": "code",
   "execution_count": 4,
   "id": "4501c60f",
   "metadata": {},
   "outputs": [],
   "source": [
    "\n",
    "# Calculating the Bias, Variance and Total Error using the models and test dataset\n",
    "\n",
    "##(extract the X and Y columns from the test dataset and reshape them to 2D arrays with one column using the\n",
    "##reshape() method).\n",
    "test_x = test['X']\n",
    "test_y = test['Y']\n",
    "value_x = np.array(test_x).reshape(-1,1)\n",
    "value_y = np.array(test_y).reshape(-1,1)\n",
    "\n",
    "##empty arrays to store the squared bias, bias, variance, and mean squared error for each degree of polynomial fit.\n",
    "squared_bias, bias, variance, mse, results = [], [], [], [], []\n",
    "\n",
    "# for every degree of polynomial fit\n",
    "for i in range(1,degrees+1,1):\n",
    "  shape = test_y.shape\n",
    "  cum_Pvalue_subdataset = np.zeros(shape)\n",
    "  cum_Pvalue_subdataset = cum_Pvalue_subdataset.reshape(-1,1)\n",
    "  cum_var = np.zeros(shape)\n",
    "  cum_var = cum_var.reshape(-1,1)\n",
    "  cum_err = np.zeros(shape)\n",
    "  cum_err = cum_err.reshape(-1,1)\n",
    "\n",
    "    ##(Creates a feature matrix with polynomial features up to degree i using the fit_transform() method of the \n",
    "    ##PolynomialFeatures) object.\n",
    "  transformed_value_x = PolynomialFeatures(degree=i).fit_transform(value_x)\n",
    "  Pvalue_subdataset = []  ## The predicted values for each subset \n",
    "\n",
    "  # for every training data subset j\n",
    "  for j in range(total_dataset):\n",
    "    Pvalue_subdataset.append(models[i-1][j].predict(transformed_value_x))\n",
    "#     print(Pvalue_subdataset[j])\n",
    "    cum_Pvalue_subdataset += Pvalue_subdataset[j]\n",
    "    cum_var += Pvalue_subdataset[j]**2\n",
    "    cum_err += (value_y - Pvalue_subdataset[j])**2\n",
    "#   print()\n",
    "#      print(len(value_y),\" \",len(Pvalue_subdataset[j]),len(cum_err))\n",
    "#   print(len(cum_err))\n",
    "  # convert cumulative values to expected values\n",
    "  pred = cum_Pvalue_subdataset/total_dataset\n",
    "  var = (cum_var/total_dataset) - (pred)**2\n",
    "  cum_err = cum_err/total_dataset\n",
    "#   print(cum_err)\n",
    "\n",
    "  squared_bias.append((np.mean((pred-value_y)**2)))\n",
    "  variance.append(np.mean(var))\n",
    "  results.append(pred)\n",
    "  bias.append(np.mean(abs(pred-value_y)))\n",
    "  mse.append(np.mean(cum_err))\n",
    "# print(cum_err)    "
   ]
  },
  {
   "cell_type": "code",
   "execution_count": 5,
   "id": "58a72593",
   "metadata": {},
   "outputs": [
    {
     "data": {
      "text/html": [
       "<div>\n",
       "<style scoped>\n",
       "    .dataframe tbody tr th:only-of-type {\n",
       "        vertical-align: middle;\n",
       "    }\n",
       "\n",
       "    .dataframe tbody tr th {\n",
       "        vertical-align: top;\n",
       "    }\n",
       "\n",
       "    .dataframe thead th {\n",
       "        text-align: right;\n",
       "    }\n",
       "</style>\n",
       "<table border=\"1\" class=\"dataframe\">\n",
       "  <thead>\n",
       "    <tr style=\"text-align: right;\">\n",
       "      <th></th>\n",
       "      <th>Bias</th>\n",
       "      <th>Variance</th>\n",
       "    </tr>\n",
       "  </thead>\n",
       "  <tbody>\n",
       "    <tr>\n",
       "      <th>1</th>\n",
       "      <td>0.26940</td>\n",
       "      <td>0.00868</td>\n",
       "    </tr>\n",
       "    <tr>\n",
       "      <th>2</th>\n",
       "      <td>0.08626</td>\n",
       "      <td>0.00122</td>\n",
       "    </tr>\n",
       "    <tr>\n",
       "      <th>3</th>\n",
       "      <td>0.03327</td>\n",
       "      <td>0.00034</td>\n",
       "    </tr>\n",
       "    <tr>\n",
       "      <th>4</th>\n",
       "      <td>0.02428</td>\n",
       "      <td>0.00037</td>\n",
       "    </tr>\n",
       "    <tr>\n",
       "      <th>5</th>\n",
       "      <td>0.02388</td>\n",
       "      <td>0.00046</td>\n",
       "    </tr>\n",
       "    <tr>\n",
       "      <th>6</th>\n",
       "      <td>0.02396</td>\n",
       "      <td>0.00058</td>\n",
       "    </tr>\n",
       "    <tr>\n",
       "      <th>7</th>\n",
       "      <td>0.02483</td>\n",
       "      <td>0.00092</td>\n",
       "    </tr>\n",
       "    <tr>\n",
       "      <th>8</th>\n",
       "      <td>0.02489</td>\n",
       "      <td>0.00176</td>\n",
       "    </tr>\n",
       "    <tr>\n",
       "      <th>9</th>\n",
       "      <td>0.03042</td>\n",
       "      <td>0.00828</td>\n",
       "    </tr>\n",
       "    <tr>\n",
       "      <th>10</th>\n",
       "      <td>0.02866</td>\n",
       "      <td>0.00650</td>\n",
       "    </tr>\n",
       "    <tr>\n",
       "      <th>11</th>\n",
       "      <td>0.03659</td>\n",
       "      <td>0.03269</td>\n",
       "    </tr>\n",
       "    <tr>\n",
       "      <th>12</th>\n",
       "      <td>0.07092</td>\n",
       "      <td>0.88449</td>\n",
       "    </tr>\n",
       "    <tr>\n",
       "      <th>13</th>\n",
       "      <td>0.04225</td>\n",
       "      <td>0.05432</td>\n",
       "    </tr>\n",
       "    <tr>\n",
       "      <th>14</th>\n",
       "      <td>0.15643</td>\n",
       "      <td>8.04335</td>\n",
       "    </tr>\n",
       "    <tr>\n",
       "      <th>15</th>\n",
       "      <td>0.08913</td>\n",
       "      <td>2.66953</td>\n",
       "    </tr>\n",
       "  </tbody>\n",
       "</table>\n",
       "</div>"
      ],
      "text/plain": [
       "       Bias  Variance\n",
       "1   0.26940   0.00868\n",
       "2   0.08626   0.00122\n",
       "3   0.03327   0.00034\n",
       "4   0.02428   0.00037\n",
       "5   0.02388   0.00046\n",
       "6   0.02396   0.00058\n",
       "7   0.02483   0.00092\n",
       "8   0.02489   0.00176\n",
       "9   0.03042   0.00828\n",
       "10  0.02866   0.00650\n",
       "11  0.03659   0.03269\n",
       "12  0.07092   0.88449\n",
       "13  0.04225   0.05432\n",
       "14  0.15643   8.04335\n",
       "15  0.08913   2.66953"
      ]
     },
     "execution_count": 5,
     "metadata": {},
     "output_type": "execute_result"
    }
   ],
   "source": [
    "# Tabualising the bias and variance\n",
    "\n",
    "table = pd.DataFrame(np.array([bias, variance]).T)\n",
    "table.columns = ['Bias', 'Variance']\n",
    "table.index = range(1, degrees+1, 1)\n",
    "table.round(5)\n",
    "# print(bias)\n"
   ]
  },
  {
   "cell_type": "markdown",
   "id": "20e33c05",
   "metadata": {},
   "source": [
    "## Task 4: Calculating Irreducible Error"
   ]
  },
  {
   "cell_type": "code",
   "execution_count": 6,
   "id": "4b475fa7",
   "metadata": {},
   "outputs": [
    {
     "data": {
      "text/html": [
       "<div>\n",
       "<style scoped>\n",
       "    .dataframe tbody tr th:only-of-type {\n",
       "        vertical-align: middle;\n",
       "    }\n",
       "\n",
       "    .dataframe tbody tr th {\n",
       "        vertical-align: top;\n",
       "    }\n",
       "\n",
       "    .dataframe thead th {\n",
       "        text-align: right;\n",
       "    }\n",
       "</style>\n",
       "<table border=\"1\" class=\"dataframe\">\n",
       "  <thead>\n",
       "    <tr style=\"text-align: right;\">\n",
       "      <th></th>\n",
       "      <th>Degree</th>\n",
       "      <th>Irreducible Error</th>\n",
       "    </tr>\n",
       "  </thead>\n",
       "  <tbody>\n",
       "    <tr>\n",
       "      <th>1</th>\n",
       "      <td>1.0</td>\n",
       "      <td>-2.220400e-16</td>\n",
       "    </tr>\n",
       "    <tr>\n",
       "      <th>2</th>\n",
       "      <td>2.0</td>\n",
       "      <td>2.776000e-17</td>\n",
       "    </tr>\n",
       "    <tr>\n",
       "      <th>3</th>\n",
       "      <td>3.0</td>\n",
       "      <td>4.302100e-16</td>\n",
       "    </tr>\n",
       "    <tr>\n",
       "      <th>4</th>\n",
       "      <td>4.0</td>\n",
       "      <td>-3.851100e-16</td>\n",
       "    </tr>\n",
       "    <tr>\n",
       "      <th>5</th>\n",
       "      <td>5.0</td>\n",
       "      <td>-2.844900e-16</td>\n",
       "    </tr>\n",
       "    <tr>\n",
       "      <th>6</th>\n",
       "      <td>6.0</td>\n",
       "      <td>9.975000e-17</td>\n",
       "    </tr>\n",
       "    <tr>\n",
       "      <th>7</th>\n",
       "      <td>7.0</td>\n",
       "      <td>-1.821000e-17</td>\n",
       "    </tr>\n",
       "    <tr>\n",
       "      <th>8</th>\n",
       "      <td>8.0</td>\n",
       "      <td>-1.040800e-16</td>\n",
       "    </tr>\n",
       "    <tr>\n",
       "      <th>9</th>\n",
       "      <td>9.0</td>\n",
       "      <td>7.858300e-16</td>\n",
       "    </tr>\n",
       "    <tr>\n",
       "      <th>10</th>\n",
       "      <td>10.0</td>\n",
       "      <td>8.847100e-16</td>\n",
       "    </tr>\n",
       "    <tr>\n",
       "      <th>11</th>\n",
       "      <td>11.0</td>\n",
       "      <td>-1.783300e-15</td>\n",
       "    </tr>\n",
       "    <tr>\n",
       "      <th>12</th>\n",
       "      <td>12.0</td>\n",
       "      <td>0.000000e+00</td>\n",
       "    </tr>\n",
       "    <tr>\n",
       "      <th>13</th>\n",
       "      <td>13.0</td>\n",
       "      <td>3.330700e-16</td>\n",
       "    </tr>\n",
       "    <tr>\n",
       "      <th>14</th>\n",
       "      <td>14.0</td>\n",
       "      <td>3.552710e-15</td>\n",
       "    </tr>\n",
       "    <tr>\n",
       "      <th>15</th>\n",
       "      <td>15.0</td>\n",
       "      <td>-4.440900e-16</td>\n",
       "    </tr>\n",
       "  </tbody>\n",
       "</table>\n",
       "</div>"
      ],
      "text/plain": [
       "    Degree  Irreducible Error\n",
       "1      1.0      -2.220400e-16\n",
       "2      2.0       2.776000e-17\n",
       "3      3.0       4.302100e-16\n",
       "4      4.0      -3.851100e-16\n",
       "5      5.0      -2.844900e-16\n",
       "6      6.0       9.975000e-17\n",
       "7      7.0      -1.821000e-17\n",
       "8      8.0      -1.040800e-16\n",
       "9      9.0       7.858300e-16\n",
       "10    10.0       8.847100e-16\n",
       "11    11.0      -1.783300e-15\n",
       "12    12.0       0.000000e+00\n",
       "13    13.0       3.330700e-16\n",
       "14    14.0       3.552710e-15\n",
       "15    15.0      -4.440900e-16"
      ]
     },
     "execution_count": 6,
     "metadata": {},
     "output_type": "execute_result"
    }
   ],
   "source": [
    "# Calculating Irreducible Error\n",
    "irreducible_error = np.array(mse) - (np.array(squared_bias) + np.array(variance))\n",
    "\n",
    "# Tabualising the degree and Irreducible Error\n",
    "table = pd.DataFrame(np.array([[i for i in range(1, degrees+1)], irreducible_error]).T)\n",
    "table.columns = ['Degree', 'Irreducible Error']\n",
    "table.index = range(1, degrees+1, 1)\n",
    "table.round(20)\n",
    "# print(irreducible_error)"
   ]
  },
  {
   "cell_type": "code",
   "execution_count": 7,
   "id": "f5620917",
   "metadata": {},
   "outputs": [
    {
     "data": {
      "image/png": "[encoded data removed]",
      "text/plain": [
       "<Figure size 600x400 with 1 Axes>"
      ]
     },
     "metadata": {},
     "output_type": "display_data"
    }
   ],
   "source": [
    "#Plotting irreducible Error\n",
    "plt.figure(figsize=(6, 4))\n",
    "plt.plot(range(1, 16),irreducible_error,  color = 'blue')\n",
    "plt.ylabel('Irreducible Error', fontsize=10, color = 'blue')\n",
    "plt.xlabel('Degree of model', fontsize=10, color = 'black')\n",
    "plt.show()"
   ]
  },
  {
   "cell_type": "markdown",
   "id": "596002e8",
   "metadata": {},
   "source": [
    "## 2.5 Task 5: Plotting Bias square  −  Variance graph"
   ]
  },
  {
   "cell_type": "code",
   "execution_count": 8,
   "id": "1303647a",
   "metadata": {},
   "outputs": [
    {
     "data": {
      "text/plain": [
       "<matplotlib.legend.Legend at 0x7fb1bf793070>"
      ]
     },
     "execution_count": 8,
     "metadata": {},
     "output_type": "execute_result"
    },
    {
     "data": {
      "image/png": "[encoded data removed]",
      "text/plain": [
       "<Figure size 800x400 with 1 Axes>"
      ]
     },
     "metadata": {},
     "output_type": "display_data"
    }
   ],
   "source": [
    "# depicting the bias square -variance tradeoff\n",
    "plt.figure(figsize=(8, 4))\n",
    "plt.plot(range(1, 11),squared_bias[0:10],  color = 'red')\n",
    "plt.plot(range(1, 11),variance[0:10],  color = 'green')\n",
    "plt.plot(range(1, 11),mse[0:10],  color = 'blue')\n",
    "\n",
    "plt.xlabel('Degree of Model', fontsize=13, color = 'blue')\n",
    "plt.title('(Bias)^2-Variance Trade-off', fontsize=15)\n",
    "plt.legend(['Squared Bias', 'Variance', 'MSE'])"
   ]
  }
 ],
 "metadata": {
  "kernelspec": {
   "display_name": "Python 3 (ipykernel)",
   "language": "python",
   "name": "python3"
  },
  "language_info": {
   "codemirror_mode": {
    "name": "ipython",
    "version": 3
   },
   "file_extension": ".py",
   "mimetype": "text/x-python",
   "name": "python",
   "nbconvert_exporter": "python",
   "pygments_lexer": "ipython3",
   "version": "3.9.12"
  },
  "vscode": {
   "interpreter": {
    "hash": "916dbcbb3f70747c44a77c7bcd40155683ae19c65e1c03b4aa3499c5328201f1"
   }
  }
 },
 "nbformat": 4,
 "nbformat_minor": 5
}
